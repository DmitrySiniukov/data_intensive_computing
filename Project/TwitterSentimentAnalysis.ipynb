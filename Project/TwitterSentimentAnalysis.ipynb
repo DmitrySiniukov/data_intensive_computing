{
 "cells": [
  {
   "cell_type": "code",
   "execution_count": 1,
   "metadata": {},
   "outputs": [
    {
     "data": {
      "text/plain": [
       "Name: Compile Error\n",
       "Message: <console>:35: error: object twitter is not a member of package org.apache.spark.streaming\n",
       "       import org.apache.spark.streaming.twitter.TwitterUtils\n",
       "                                         ^\n",
       "<console>:52: error: not found: value TwitterUtils\n",
       "       val twitterStream = TwitterUtils.createStream(ssc, None, filters)\n",
       "                           ^\n",
       "\n",
       "StackTrace: "
      ]
     },
     "execution_count": 1,
     "metadata": {},
     "output_type": "execute_result"
    }
   ],
   "source": [
    "import scala.util.matching\n",
    "import org.apache.spark.rdd.RDD\n",
    "import org.apache.spark.sql.{DataFrame, Dataset, Row, SparkSession}\n",
    "import org.apache.spark.sql.functions._\n",
    "import org.apache.spark.streaming.StreamingContext\n",
    "import org.apache.spark.streaming._\n",
    "import org.apache.spark.streaming.twitter.TwitterUtils\n",
    "\n",
    "// From Spark 2.0.0 to onward use SparkSession (managing Context)val spark = SparkSession.builder.appName(\"twitter-sentiment-analysis\").getOrCreate()\n",
    "val spark = SparkSession.builder.appName(\"TwitterSentimentAnalysis\").getOrCreate()\n",
    "val sc = spark.sparkContext\n",
    "import spark.implicits._\n",
    "\n",
    "// Create Spark Streaming Context\n",
    "val ssc = new StreamingContext(sc, Seconds(10))\n",
    "\n",
    "// Twitter App API Credentials - underlying twitter4j Library\n",
    "System.setProperty(\"twitter4j.oauth.consumerKey\", \"CONSUMER_KEY\")\n",
    "System.setProperty(\"twitter4j.oauth.consumerSecret\", \"CONSUMER_SECRET_KEY\")\n",
    "System.setProperty(\"twitter4j.oauth.accessToken\", \"ACCESS_TOKEN\")\n",
    "System.setProperty(\"twitter4j.oauth.accessTokenSecret\", \"ACCESS_SECRET_TOKEN\")\n",
    "\n",
    "\n",
    "val filters = Seq(\"bitcoin\")\n",
    "val twitterStream = TwitterUtils.createStream(ssc, None, filters)\n",
    "val englishTweets = twitterStream.filter(_.getLang == \"en\")\n",
    "englishTweets.map(_.getText).print()\n"
   ]
  }
 ],
 "metadata": {
  "customDeps": [
   "org.apache.bahir:spark-streaming-twitter_2.11:2.0.0"
  ],
  "customImports": [
   "import org.apache.spark.streaming.twitter.TwitterUtils \n"
  ],
  "kernelspec": {
   "display_name": "Spark - Scala",
   "language": "scala",
   "name": "spark_scala"
  },
  "language_info": {
   "codemirror_mode": "text/x-scala",
   "file_extension": ".scala",
   "mimetype": "text/x-scala",
   "name": "scala",
   "pygments_lexer": "scala",
   "version": "2.11.8"
  },
  "name": "TwitterSentimentAnalysis"
 },
 "nbformat": 4,
 "nbformat_minor": 2
}
